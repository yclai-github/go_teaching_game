{
  "nbformat": 4,
  "nbformat_minor": 0,
  "metadata": {
    "colab": {
      "provenance": [],
      "authorship_tag": "ABX9TyPqn0BGzIU1jRwdDV2ReJu6",
      "include_colab_link": true
    },
    "kernelspec": {
      "name": "python3",
      "display_name": "Python 3"
    },
    "language_info": {
      "name": "python"
    }
  },
  "cells": [
    {
      "cell_type": "markdown",
      "metadata": {
        "id": "view-in-github",
        "colab_type": "text"
      },
      "source": [
        "<a href=\"https://colab.research.google.com/github/yclai-github/go_teaching_game/blob/main/MMC_aviation.ipynb\" target=\"_parent\"><img src=\"https://colab.research.google.com/assets/colab-badge.svg\" alt=\"Open In Colab\"/></a>"
      ]
    },
    {
      "cell_type": "code",
      "source": [
        "import pandas as pd\n",
        "\n",
        "# 讀取 Excel\n",
        "df = pd.read_excel(\"sample0929.xlsx\", sheet_name=\"工作表1\")\n",
        "\n",
        "# Step 1: 建立市場矩陣 (公司 × 子市場)，1/0 表示是否進入\n",
        "market_matrix = (df.pivot_table(index=\"公司\", columns=\"子市場\", values=\"銷售量\", aggfunc=\"sum\", fill_value=0) > 0).astype(int)\n",
        "\n",
        "# Step 2: 公司－公司重疊矩陣 (有多少市場同時出現)\n",
        "overlap_matrix = market_matrix.dot(market_matrix.T)\n",
        "\n",
        "# Step 3: 計算 firm-in-market 的 MMC\n",
        "results = []\n",
        "for _, row in df.iterrows():\n",
        "    firm, market, year = row[\"公司\"], row[\"子市場\"], row[\"年度\"]\n",
        "\n",
        "    # 找出該市場的所有公司\n",
        "    rivals = df.loc[df[\"子市場\"] == market, \"公司\"].unique()\n",
        "    rivals = [r for r in rivals if r != firm]\n",
        "\n",
        "    # 若沒有對手，MMC = 0\n",
        "    if len(rivals) == 0:\n",
        "        mmc_val = 0\n",
        "    else:\n",
        "        # 該公司與對手的重疊市場數\n",
        "        overlaps = [overlap_matrix.loc[firm, r] for r in rivals]\n",
        "        mmc_val = sum(overlaps) / len(rivals)\n",
        "\n",
        "    results.append({\n",
        "        \"公司\": firm,\n",
        "        \"子市場\": market,\n",
        "        \"年度\": year,\n",
        "        \"MMC\": mmc_val\n",
        "    })\n",
        "\n",
        "mmc_df = pd.DataFrame(results)\n",
        "\n",
        "# 輸出成 Excel\n",
        "mmc_df.to_excel(\"result_mmc.xlsx\", index=False)\n",
        "print(\"已完成，結果輸出為 result_mmc.xlsx\")\n"
      ],
      "metadata": {
        "colab": {
          "base_uri": "https://localhost:8080/"
        },
        "id": "2FRb8R32R8kc",
        "outputId": "0e01ce5b-0c73-46cb-a864-2d43232ab98f"
      },
      "execution_count": 2,
      "outputs": [
        {
          "output_type": "stream",
          "name": "stdout",
          "text": [
            "已完成，結果輸出為 result_mmc.xlsx\n"
          ]
        }
      ]
    },
    {
      "cell_type": "code",
      "source": [
        "!python compute_market_controls_no_airport.py --input sample0929.xlsx --sheet 工作表1 --output result_controls.xlsx"
      ],
      "metadata": {
        "colab": {
          "base_uri": "https://localhost:8080/"
        },
        "id": "ZylTk5aJXj_n",
        "outputId": "4faacf96-e6b5-4ce1-96d5-f1c00b026ad2"
      },
      "execution_count": 3,
      "outputs": [
        {
          "output_type": "stream",
          "name": "stdout",
          "text": [
            "Saved: result_controls.xlsx\n"
          ]
        }
      ]
    },
    {
      "cell_type": "code",
      "source": [
        "from google.colab import files\n",
        "files.download(\"result_controls.xlsx\")"
      ],
      "metadata": {
        "colab": {
          "base_uri": "https://localhost:8080/",
          "height": 17
        },
        "id": "Uja_GQNgXoe2",
        "outputId": "1059c5a7-00a7-40f7-ee01-7bd6ba3f2641"
      },
      "execution_count": 4,
      "outputs": [
        {
          "output_type": "display_data",
          "data": {
            "text/plain": [
              "<IPython.core.display.Javascript object>"
            ],
            "application/javascript": [
              "\n",
              "    async function download(id, filename, size) {\n",
              "      if (!google.colab.kernel.accessAllowed) {\n",
              "        return;\n",
              "      }\n",
              "      const div = document.createElement('div');\n",
              "      const label = document.createElement('label');\n",
              "      label.textContent = `Downloading \"${filename}\": `;\n",
              "      div.appendChild(label);\n",
              "      const progress = document.createElement('progress');\n",
              "      progress.max = size;\n",
              "      div.appendChild(progress);\n",
              "      document.body.appendChild(div);\n",
              "\n",
              "      const buffers = [];\n",
              "      let downloaded = 0;\n",
              "\n",
              "      const channel = await google.colab.kernel.comms.open(id);\n",
              "      // Send a message to notify the kernel that we're ready.\n",
              "      channel.send({})\n",
              "\n",
              "      for await (const message of channel.messages) {\n",
              "        // Send a message to notify the kernel that we're ready.\n",
              "        channel.send({})\n",
              "        if (message.buffers) {\n",
              "          for (const buffer of message.buffers) {\n",
              "            buffers.push(buffer);\n",
              "            downloaded += buffer.byteLength;\n",
              "            progress.value = downloaded;\n",
              "          }\n",
              "        }\n",
              "      }\n",
              "      const blob = new Blob(buffers, {type: 'application/binary'});\n",
              "      const a = document.createElement('a');\n",
              "      a.href = window.URL.createObjectURL(blob);\n",
              "      a.download = filename;\n",
              "      div.appendChild(a);\n",
              "      a.click();\n",
              "      div.remove();\n",
              "    }\n",
              "  "
            ]
          },
          "metadata": {}
        },
        {
          "output_type": "display_data",
          "data": {
            "text/plain": [
              "<IPython.core.display.Javascript object>"
            ],
            "application/javascript": [
              "download(\"download_e9dcca01-ecdc-4d1b-87c0-e97e18796d9a\", \"result_controls.xlsx\", 271996)"
            ]
          },
          "metadata": {}
        }
      ]
    }
  ]
}